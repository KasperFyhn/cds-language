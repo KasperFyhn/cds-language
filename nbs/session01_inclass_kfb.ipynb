{
 "cells": [
  {
   "cell_type": "markdown",
   "id": "81cdd66947e701c8",
   "metadata": {},
   "source": [
    "# Jupyter demo and Python introduction"
   ]
  },
  {
   "cell_type": "markdown",
   "id": "ea7add7dec7af46d",
   "metadata": {},
   "source": [
    "## Markdown"
   ]
  },
  {
   "cell_type": "markdown",
   "id": "7fa6f46a-4960-4e29-957b-dac50ed0f102",
   "metadata": {},
   "source": [
    "Jupyter Notebooks can contain Markdown cells, like the one shown here. Markdown allows for simple text formatting like headings, italics, lists and more. For example:\n",
    "\n",
    "### A header\n",
    "\n",
    "This is regular text.\n",
    "\n",
    "This has _italic_ text.\n",
    "\n",
    "This has **bold** text.\n",
    "\n",
    "Here is a numbered list:\n",
    "1. First item\n",
    "2. Second item\n",
    "\n",
    "Here is a bullet point list:\n",
    "- An item\n",
    "- Another item\n",
    "\n",
    "For more Markdown functionality, see this [Markdown cheat sheet](https://www.markdownguide.org/cheat-sheet/) - thus also demonstrating how to make links."
   ]
  },
  {
   "cell_type": "markdown",
   "id": "0f44e938-8cef-4902-8cc4-33b2f756763c",
   "metadata": {},
   "source": [
    "## Variables\n",
    "\n",
    "A variable contains a value. In Python we work with for main data types:\n",
    "- Integers: whole numbers, no decimals\n",
    "- Floating point numbers: decimal numbers\n",
    "- Strings: defined by surrounding quotation marks like `'string'`\n",
    "- Boolean: `True` or `False`"
   ]
  },
  {
   "cell_type": "code",
   "execution_count": 1,
   "id": "ba4910ea-9aaf-42c4-adb8-f50693d2482c",
   "metadata": {
    "ExecuteTime": {
     "end_time": "2024-07-22T12:13:17.987192Z",
     "start_time": "2024-07-22T12:13:17.981145Z"
    }
   },
   "outputs": [
    {
     "name": "stdout",
     "output_type": "stream",
     "text": [
      "3\n"
     ]
    }
   ],
   "source": [
    "# variables are defined with =, then you can do things with those variables\n",
    "x = 1\n",
    "y = 2\n",
    "print(x + y)"
   ]
  },
  {
   "cell_type": "code",
   "execution_count": 2,
   "id": "2acaa8bf-3dce-44e1-b9bf-7940096101fc",
   "metadata": {
    "ExecuteTime": {
     "end_time": "2024-07-22T12:13:18.010980Z",
     "start_time": "2024-07-22T12:13:18.008023Z"
    }
   },
   "outputs": [],
   "source": [
    "a_string = 'this is some text in a string variable'"
   ]
  },
  {
   "cell_type": "code",
   "execution_count": 3,
   "id": "d4b9fa38-4f45-4b37-8767-2389888adefc",
   "metadata": {
    "ExecuteTime": {
     "end_time": "2024-07-22T12:13:18.027723Z",
     "start_time": "2024-07-22T12:13:18.021041Z"
    }
   },
   "outputs": [
    {
     "data": {
      "text/plain": [
       "'this is some text in a string variable'"
      ]
     },
     "execution_count": 3,
     "metadata": {},
     "output_type": "execute_result"
    }
   ],
   "source": [
    "# In Jupyter notebooks, you can inspect variables by writing its name as the only or last thing in a cell\n",
    "a_string"
   ]
  },
  {
   "cell_type": "code",
   "execution_count": 4,
   "id": "9e339aea-5078-44ba-8282-3344a14958d6",
   "metadata": {
    "ExecuteTime": {
     "end_time": "2024-07-22T12:13:18.040806Z",
     "start_time": "2024-07-22T12:13:18.036834Z"
    }
   },
   "outputs": [
    {
     "name": "stdout",
     "output_type": "stream",
     "text": [
      "this is some text in a string variable\n"
     ]
    }
   ],
   "source": [
    "# Or you can print it, as you would in a Python script (a .py file)\n",
    "print(a_string)"
   ]
  },
  {
   "cell_type": "code",
   "execution_count": 5,
   "id": "5e08f468-d410-44bb-89ac-7ea94ffcd0af",
   "metadata": {
    "ExecuteTime": {
     "end_time": "2024-07-22T12:13:18.058419Z",
     "start_time": "2024-07-22T12:13:18.054375Z"
    }
   },
   "outputs": [],
   "source": [
    "an_int = 2"
   ]
  },
  {
   "cell_type": "code",
   "execution_count": 6,
   "id": "6181d070-3e79-41ee-8285-ad9b1982a7f7",
   "metadata": {
    "ExecuteTime": {
     "end_time": "2024-07-22T12:13:18.067378Z",
     "start_time": "2024-07-22T12:13:18.063807Z"
    }
   },
   "outputs": [
    {
     "data": {
      "text/plain": [
       "2"
      ]
     },
     "execution_count": 6,
     "metadata": {},
     "output_type": "execute_result"
    }
   ],
   "source": [
    "an_int"
   ]
  },
  {
   "cell_type": "code",
   "execution_count": 7,
   "id": "dcec4660-de7f-4a46-8174-145562f5f325",
   "metadata": {
    "ExecuteTime": {
     "end_time": "2024-07-22T12:13:18.072628Z",
     "start_time": "2024-07-22T12:13:18.070093Z"
    }
   },
   "outputs": [],
   "source": [
    "a_true_bool = True\n",
    "a_false_bool = False"
   ]
  },
  {
   "cell_type": "code",
   "execution_count": 8,
   "id": "96f080f3-3e97-4c49-a62c-cae2890db92b",
   "metadata": {
    "ExecuteTime": {
     "end_time": "2024-07-22T12:13:18.080535Z",
     "start_time": "2024-07-22T12:13:18.077425Z"
    }
   },
   "outputs": [],
   "source": [
    "a_float = 1.23"
   ]
  },
  {
   "cell_type": "code",
   "execution_count": 9,
   "id": "d29c95f6-bca4-451a-949f-3189138f07ff",
   "metadata": {
    "ExecuteTime": {
     "end_time": "2024-07-22T12:13:18.103284Z",
     "start_time": "2024-07-22T12:13:18.098471Z"
    }
   },
   "outputs": [
    {
     "data": {
      "text/plain": [
       "1.23"
      ]
     },
     "execution_count": 9,
     "metadata": {},
     "output_type": "execute_result"
    }
   ],
   "source": [
    "a_float"
   ]
  },
  {
   "cell_type": "code",
   "execution_count": 10,
   "id": "ef842dd0-3064-4b5a-9527-b9b8d520cd74",
   "metadata": {
    "ExecuteTime": {
     "end_time": "2024-07-22T12:13:18.110132Z",
     "start_time": "2024-07-22T12:13:18.105897Z"
    }
   },
   "outputs": [
    {
     "name": "stdout",
     "output_type": "stream",
     "text": [
      "Mathematical operations with 10 and 3.\n",
      "\n",
      "Addition: 13\n",
      "Subtraction: 7\n",
      "Multiplication: 30\n",
      "Division: 3.3333333333333335\n",
      "To the power of: 1000\n",
      "Integer division: 3\n",
      "And the remainder (modulo): 1\n"
     ]
    }
   ],
   "source": [
    "# Mathematical operations\n",
    "print('Mathematical operations with 10 and 3.\\n')\n",
    "print('Addition:', 10 + 3)\n",
    "print('Subtraction:', 10 - 3)\n",
    "print('Multiplication:', 10 * 3)\n",
    "print('Division:', 10 / 3)\n",
    "print('To the power of:', 10 ** 3)\n",
    "print('Integer division:', 10 // 3)\n",
    "print('And the remainder (modulo):', 10 % 3)"
   ]
  },
  {
   "cell_type": "markdown",
   "id": "3e203ba3-77aa-4ce7-8032-3b44f6f92af9",
   "metadata": {},
   "source": [
    "## for loops\n",
    "\n",
    "For loops lets you perform action repeatedly. For each iteration, the **loop variable** takes on a new value."
   ]
  },
  {
   "cell_type": "code",
   "execution_count": 11,
   "id": "f896e856-0841-43d7-89ef-85570e36e1c9",
   "metadata": {
    "ExecuteTime": {
     "end_time": "2024-07-22T12:13:18.114390Z",
     "start_time": "2024-07-22T12:13:18.111311Z"
    }
   },
   "outputs": [
    {
     "name": "stdout",
     "output_type": "stream",
     "text": [
      "In loop: 0\n",
      "adding 2: 2\n",
      "\n",
      "In loop: 1\n",
      "adding 2: 3\n",
      "\n",
      "In loop: 2\n",
      "adding 2: 4\n",
      "\n",
      "In loop: 3\n",
      "adding 2: 5\n",
      "\n",
      "In loop: 4\n",
      "adding 2: 6\n",
      "\n",
      "In loop: 5\n",
      "adding 2: 7\n",
      "\n",
      "In loop: 6\n",
      "adding 2: 8\n",
      "\n",
      "In loop: 7\n",
      "adding 2: 9\n",
      "\n",
      "In loop: 8\n",
      "adding 2: 10\n",
      "\n",
      "In loop: 9\n",
      "adding 2: 11\n",
      "\n"
     ]
    }
   ],
   "source": [
    "for i in range(10):\n",
    "    print('In loop:', i)\n",
    "    print('adding 2:', i + 2)\n",
    "    print()"
   ]
  },
  {
   "cell_type": "markdown",
   "id": "a6940c35-712a-4f10-8a2d-119fe83ab138",
   "metadata": {},
   "source": [
    "# If statements\n",
    "\n",
    "If statements lets you control the flow of your program with various conditions that must be met."
   ]
  },
  {
   "cell_type": "code",
   "execution_count": 12,
   "id": "5f53ab1f-5765-4938-be77-a80aca11bf92",
   "metadata": {
    "ExecuteTime": {
     "end_time": "2024-07-22T12:13:18.117963Z",
     "start_time": "2024-07-22T12:13:18.115638Z"
    }
   },
   "outputs": [],
   "source": [
    "temperature = -5"
   ]
  },
  {
   "cell_type": "code",
   "execution_count": 13,
   "id": "11c427f6-248b-482e-8db3-5910d5dea877",
   "metadata": {
    "ExecuteTime": {
     "end_time": "2024-07-22T12:13:18.122254Z",
     "start_time": "2024-07-22T12:13:18.119064Z"
    }
   },
   "outputs": [
    {
     "name": "stdout",
     "output_type": "stream",
     "text": [
      "put on ski pants\n"
     ]
    }
   ],
   "source": [
    "if temperature > 15:\n",
    "    print('put on shorts')\n",
    "elif 0 < temperature <= 15:\n",
    "    print('put on pants')\n",
    "elif temperature <= 0:\n",
    "    print('put on ski pants')\n"
   ]
  },
  {
   "cell_type": "code",
   "execution_count": 14,
   "id": "2ab5a758-721c-4500-bfb2-cc5d42333236",
   "metadata": {
    "ExecuteTime": {
     "end_time": "2024-07-22T12:13:18.149027Z",
     "start_time": "2024-07-22T12:13:18.145706Z"
    }
   },
   "outputs": [],
   "source": [
    "temperature = 5\n",
    "it_rains = False"
   ]
  },
  {
   "cell_type": "code",
   "execution_count": 15,
   "id": "518ee640-621a-4b66-8980-d2fefc6a9378",
   "metadata": {
    "ExecuteTime": {
     "end_time": "2024-07-22T12:13:18.159341Z",
     "start_time": "2024-07-22T12:13:18.154739Z"
    }
   },
   "outputs": [
    {
     "name": "stdout",
     "output_type": "stream",
     "text": [
      "put on jacket\n"
     ]
    }
   ],
   "source": [
    "if temperature < 10 or it_rains:\n",
    "    print('put on jacket')"
   ]
  },
  {
   "cell_type": "markdown",
   "id": "e935cf873d0fb99f",
   "metadata": {},
   "source": [
    "You can use boolean operators to flip or chain boolean expressions. They are _and_, _or_ and _not_. Like this:"
   ]
  },
  {
   "cell_type": "code",
   "execution_count": 16,
   "id": "1aa411bbb6391e12",
   "metadata": {
    "ExecuteTime": {
     "end_time": "2024-07-22T12:13:18.167089Z",
     "start_time": "2024-07-22T12:13:18.163249Z"
    }
   },
   "outputs": [
    {
     "data": {
      "text/plain": [
       "False"
      ]
     },
     "execution_count": 16,
     "metadata": {},
     "output_type": "execute_result"
    }
   ],
   "source": [
    "# Flipping the value of 'True'\n",
    "not True"
   ]
  },
  {
   "cell_type": "code",
   "execution_count": 17,
   "id": "745023bfd2d0ff60",
   "metadata": {
    "ExecuteTime": {
     "end_time": "2024-07-22T12:13:18.185232Z",
     "start_time": "2024-07-22T12:13:18.182297Z"
    }
   },
   "outputs": [],
   "source": [
    "x = 1\n",
    "y = 2"
   ]
  },
  {
   "cell_type": "code",
   "execution_count": 18,
   "id": "7a71aca135d031d8",
   "metadata": {
    "ExecuteTime": {
     "end_time": "2024-07-22T12:13:18.218147Z",
     "start_time": "2024-07-22T12:13:18.213521Z"
    }
   },
   "outputs": [
    {
     "data": {
      "text/plain": [
       "True"
      ]
     },
     "execution_count": 18,
     "metadata": {},
     "output_type": "execute_result"
    }
   ],
   "source": [
    "x > 0 and y > 0"
   ]
  },
  {
   "cell_type": "code",
   "execution_count": 19,
   "id": "f77f1e2d8ad9eeef",
   "metadata": {
    "ExecuteTime": {
     "end_time": "2024-07-22T12:13:18.223999Z",
     "start_time": "2024-07-22T12:13:18.220108Z"
    }
   },
   "outputs": [
    {
     "data": {
      "text/plain": [
       "True"
      ]
     },
     "execution_count": 19,
     "metadata": {},
     "output_type": "execute_result"
    }
   ],
   "source": [
    "x == 1 or y == 1"
   ]
  },
  {
   "cell_type": "markdown",
   "id": "2cb9cb33907d6d07",
   "metadata": {},
   "source": [
    "What is the difference here? **Order of operations**"
   ]
  },
  {
   "cell_type": "code",
   "execution_count": 20,
   "id": "8ee0a7e59c2bb6fb",
   "metadata": {
    "ExecuteTime": {
     "end_time": "2024-07-22T12:13:18.230547Z",
     "start_time": "2024-07-22T12:13:18.226901Z"
    }
   },
   "outputs": [
    {
     "data": {
      "text/plain": [
       "True"
      ]
     },
     "execution_count": 20,
     "metadata": {},
     "output_type": "execute_result"
    }
   ],
   "source": [
    "# x == 1 is true, but is flipped by 'not'; yet, y == 2 is true, so the whole expression is true\n",
    "not x == 1 or y == 2"
   ]
  },
  {
   "cell_type": "code",
   "execution_count": 21,
   "id": "5550ea7fae3cf734",
   "metadata": {
    "ExecuteTime": {
     "end_time": "2024-07-22T12:13:18.235164Z",
     "start_time": "2024-07-22T12:13:18.231593Z"
    }
   },
   "outputs": [
    {
     "data": {
      "text/plain": [
       "False"
      ]
     },
     "execution_count": 21,
     "metadata": {},
     "output_type": "execute_result"
    }
   ],
   "source": [
    "# x == 1 is true and so is y == 2, so the expression in parentheses is true, but it is then flipped by 'not'. Parenthesized expressions come first. \n",
    "not (x == 1 or y == 2)"
   ]
  },
  {
   "cell_type": "code",
   "execution_count": 21,
   "id": "d30e455b2e2c5cae",
   "metadata": {
    "ExecuteTime": {
     "end_time": "2024-07-22T12:13:18.238027Z",
     "start_time": "2024-07-22T12:13:18.236081Z"
    }
   },
   "outputs": [],
   "source": []
  }
 ],
 "metadata": {
  "kernelspec": {
   "display_name": "Python 3 ",
   "language": "python",
   "name": "python3"
  },
  "language_info": {
   "codemirror_mode": {
    "name": "ipython",
    "version": 3
   },
   "file_extension": ".py",
   "mimetype": "text/x-python",
   "name": "python",
   "nbconvert_exporter": "python",
   "pygments_lexer": "ipython3",
   "version": "3.10.14"
  }
 },
 "nbformat": 4,
 "nbformat_minor": 5
}
