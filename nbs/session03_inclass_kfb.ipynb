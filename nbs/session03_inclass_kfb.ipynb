{
 "cells": [
  {
   "cell_type": "markdown",
   "metadata": {},
   "source": "# Analysing text with ```spaCy```"
  },
  {
   "cell_type": "markdown",
   "metadata": {},
   "source": [
    "There are a number of different NLP frameworks that you're likely to encounter. The most popular and widely-used of these are:\n",
    "\n",
    "- ```NLTK``` (Natural Language Toolkit, old-school)\n",
    "- ```UDPipe``` (Neural network based, fast and light, but not super accurate)\n",
    "- ```CoreNLP``` and ```stanza``` (Created by the team at Stanford; academically robust)\n",
    "- ```spaCy``` production-ready, well-documented, state-of-the-art\n",
    "\n",
    "We'll be working with ```spaCy``` in this module, primarily because it's easy and intuitive, and also scales well.\n",
    "\n",
    "First thing we need to do is install ```spaCy``` and the language model that we want to use.\n",
    "\n",
    "From the command line, you should first make sure to run the setup script to install requirements with `./setup.sh`. Or run these commands yourself:\n",
    "```bash\n",
    "pip install spacy pandas\n",
    "python -m spacy download en_core_web_md\n",
    "```"
   ]
  },
  {
   "cell_type": "markdown",
   "metadata": {},
   "source": [
    "## Initializing ```spaCy```"
   ]
  },
  {
   "cell_type": "markdown",
   "metadata": {},
   "source": [
    "The first thing we need to do is import ```spaCy``` __and__ the language model that we want to use.\n",
    "\n",
    "Note that, if you want to use different languages you want to use different language models."
   ]
  },
  {
   "cell_type": "code",
   "metadata": {
    "ExecuteTime": {
     "end_time": "2025-02-24T08:35:14.035030Z",
     "start_time": "2025-02-24T08:35:10.348639Z"
    }
   },
   "source": [
    "# create a spacy NLP class\n",
    "import spacy\n",
    "nlp = spacy.load(\"en_core_web_md\")"
   ],
   "outputs": [],
   "execution_count": 2
  },
  {
   "cell_type": "markdown",
   "metadata": {},
   "source": [
    "With the model now loaded, we can begin to do some very simple NLP tasks.\n",
    "\n",
    "Here, we create a spaCy object and assign it to the variable ```nlp```. This is the NLP pipeline that will do all our heavy lifting, using the trained model we've specified.\n",
    "\n",
    "Below, you can see what the pipeline does with a bit of sample text. Passing text to the nlp object gives us access to a bunch of properties, including tokens (words), parts of speech, named entities, and so on. Here's we two of them, tokens and entities. These objects, in turn, have certain methods attached to them. A full outline of available methods can be found in the spaCy docs.\n",
    "\n",
    "In this case, for all token objects, let's return the token itself (```token.text```); its part-of-speech tag (```token.pos_```); and the grammatical dependency relations between the tokens (```token.dep_```).\n"
   ]
  },
  {
   "cell_type": "code",
   "metadata": {
    "ExecuteTime": {
     "end_time": "2025-02-24T08:35:14.043305Z",
     "start_time": "2025-02-24T08:35:14.040856Z"
    }
   },
   "source": [
    "# a single sentence example\n",
    "input_string = \"My name is Ross and I have family in New York City.\""
   ],
   "outputs": [],
   "execution_count": 3
  },
  {
   "cell_type": "code",
   "metadata": {
    "ExecuteTime": {
     "end_time": "2025-02-24T08:35:14.105191Z",
     "start_time": "2025-02-24T08:35:14.088725Z"
    }
   },
   "source": [
    "# create a new Doc object\n",
    "doc = nlp(input_string)"
   ],
   "outputs": [],
   "execution_count": 4
  },
  {
   "cell_type": "code",
   "metadata": {
    "ExecuteTime": {
     "end_time": "2025-02-24T08:35:14.437378Z",
     "start_time": "2025-02-24T08:35:14.434192Z"
    }
   },
   "source": [
    "print(doc)"
   ],
   "outputs": [
    {
     "name": "stdout",
     "output_type": "stream",
     "text": [
      "My name is Ross and I have family in New York City.\n"
     ]
    }
   ],
   "execution_count": 5
  },
  {
   "cell_type": "markdown",
   "metadata": {},
   "source": "## Tokens"
  },
  {
   "cell_type": "code",
   "metadata": {
    "ExecuteTime": {
     "end_time": "2025-02-24T08:35:15.040846Z",
     "start_time": "2025-02-24T08:35:15.037615Z"
    }
   },
   "source": [
    "# tokenizing text\n",
    "for token in doc:\n",
    "    print(token.text)"
   ],
   "outputs": [
    {
     "name": "stdout",
     "output_type": "stream",
     "text": [
      "My\n",
      "name\n",
      "is\n",
      "Ross\n",
      "and\n",
      "I\n",
      "have\n",
      "family\n",
      "in\n",
      "New\n",
      "York\n",
      "City\n",
      ".\n"
     ]
    }
   ],
   "execution_count": 6
  },
  {
   "cell_type": "markdown",
   "metadata": {},
   "source": "## Index, text and POS-tag"
  },
  {
   "cell_type": "code",
   "metadata": {
    "ExecuteTime": {
     "end_time": "2025-02-24T08:35:16.816125Z",
     "start_time": "2025-02-24T08:35:16.812892Z"
    }
   },
   "source": [
    "# find parts-of-speech\n",
    "for token in doc:\n",
    "    print(token.i, token.text, token.pos_)"
   ],
   "outputs": [
    {
     "name": "stdout",
     "output_type": "stream",
     "text": [
      "0 My PRON\n",
      "1 name NOUN\n",
      "2 is AUX\n",
      "3 Ross PROPN\n",
      "4 and CCONJ\n",
      "5 I PRON\n",
      "6 have VERB\n",
      "7 family NOUN\n",
      "8 in ADP\n",
      "9 New PROPN\n",
      "10 York PROPN\n",
      "11 City PROPN\n",
      "12 . PUNCT\n"
     ]
    }
   ],
   "execution_count": 7
  },
  {
   "cell_type": "markdown",
   "metadata": {},
   "source": [
    "## NER labels\n",
    "Extracting named entities from a ```spaCy``` doc requires an extra step, but nothing too challenging:"
   ]
  },
  {
   "cell_type": "code",
   "metadata": {
    "ExecuteTime": {
     "end_time": "2025-02-24T08:35:18.260755Z",
     "start_time": "2025-02-24T08:35:18.254772Z"
    }
   },
   "source": [
    "# extracting NERs\n",
    "for ent in doc.ents:\n",
    "    print(ent.text, ent.label_)"
   ],
   "outputs": [
    {
     "name": "stdout",
     "output_type": "stream",
     "text": [
      "Ross PERSON\n",
      "New York City GPE\n"
     ]
    }
   ],
   "execution_count": 8
  },
  {
   "cell_type": "markdown",
   "metadata": {},
   "source": [
    "## Count distribution of linguistic features"
   ]
  },
  {
   "cell_type": "markdown",
   "metadata": {},
   "source": "### Create doc object"
  },
  {
   "cell_type": "code",
   "metadata": {
    "ExecuteTime": {
     "end_time": "2025-02-24T08:35:38.900968Z",
     "start_time": "2025-02-24T08:35:38.897437Z"
    }
   },
   "source": [
    "# load a text file\n",
    "import os\n",
    "filename = os.path.join(\"..\", \"data\", \"au-history\", \"au-history.txt\")\n",
    "with open(filename, \"r\", encoding=\"utf-8\") as file:\n",
    "    text = file.read()"
   ],
   "outputs": [],
   "execution_count": 10
  },
  {
   "metadata": {
    "ExecuteTime": {
     "end_time": "2025-02-24T08:35:40.642117Z",
     "start_time": "2025-02-24T08:35:39.517203Z"
    }
   },
   "cell_type": "code",
   "source": [
    "nlp = spacy.load(\"en_core_web_md\")\n",
    "# The text has been formatted (manually) with double line breaks between headers and paragraphs.\n",
    "# One could also have done this with preprocessing if there had been many more documents!\n",
    "# With the double line breaks, we tell spacy to split sentences on those.\n",
    "nlp.add_pipe(\"sentencizer\", config={\"punct_chars\": [\"\\n\\n\"]}, before=\"parser\")"
   ],
   "outputs": [
    {
     "data": {
      "text/plain": [
       "<spacy.pipeline.sentencizer.Sentencizer at 0x79e078da9e40>"
      ]
     },
     "execution_count": 11,
     "metadata": {},
     "output_type": "execute_result"
    }
   ],
   "execution_count": 11
  },
  {
   "metadata": {
    "ExecuteTime": {
     "end_time": "2025-02-24T08:35:50.567986Z",
     "start_time": "2025-02-24T08:35:50.423347Z"
    }
   },
   "cell_type": "code",
   "source": [
    "# create a doc object\n",
    "doc = nlp(text)"
   ],
   "outputs": [],
   "execution_count": 13
  },
  {
   "metadata": {
    "ExecuteTime": {
     "end_time": "2025-02-24T08:35:51.223979Z",
     "start_time": "2025-02-24T08:35:51.219416Z"
    }
   },
   "cell_type": "code",
   "source": [
    "for sent in doc.sents:\n",
    "    print(sent.text)\n",
    "    print('-' * 50)"
   ],
   "outputs": [
    {
     "name": "stdout",
     "output_type": "stream",
     "text": [
      "History\n",
      "\n",
      "\n",
      "--------------------------------------------------\n",
      "AU will soon be celebrating its 100th anniversary. Since its foundation in 1928, the university has evolved from 78 students to approx. 38,000 students today.\n",
      "\n",
      "\n",
      "--------------------------------------------------\n",
      "1928\n",
      "Establishment\n",
      "After a long, persistent struggle and strong unity among the citizens of Aarhus, university education finally opened its doors.\n",
      "\n",
      "‘\n",
      "--------------------------------------------------\n",
      "University Teaching in Jutland’ started up with 78 students in rented premises, where they were taught French, English, German, Danish and introductory philosophy.\n",
      "\n",
      "\n",
      "--------------------------------------------------\n",
      "1933\n",
      "The first university building is inaugurated\n",
      "On 11 September 1933, King Christian X inaugurated the first university building. The building was designed by Kay Fisker and C. F. Møller, and its design became the template for the buildings in the University Park.\n",
      "\n",
      "\n",
      "--------------------------------------------------\n",
      "In 1934, the grass surrounding the building was grazed by 20 sheep. However, this solution turned out to be less than ideal, because the sheep ate the shoots on the young oak trees and distracted the students by bleating. But the last straw was when a ram attacked its own mirror image in one of the building’s large windows.\n",
      "\n",
      "\n",
      "--------------------------------------------------\n",
      "1935-1942\n",
      "The first faculties are established\n",
      "Five faculties were established in the period 1935-1942: Humanities, Medicine, Economics, Law (later Social Sciences) and Theology.\n",
      "\n",
      "\n",
      "--------------------------------------------------\n",
      "1944\n",
      "The new main building is erected – and occupied\n",
      "During the German occupation of Denmark, the occupying forces took over residence halls 4 and 5. The buildings were used as the headquarters of the Gestapo.\n",
      "\n",
      "\n",
      "--------------------------------------------------\n",
      "On 31 October 1944, to aid of the Danish resistance, the British air force carried out an air strike on the residence hall. The attack was successful, but tragically, nine workers and the woman who ran the university shop lost their lives during the attack.\n",
      "\n",
      "\n",
      "--------------------------------------------------\n",
      "1965-1977\n",
      "\n",
      "\n",
      "--------------------------------------------------\n",
      "Growth\n",
      "\n",
      "\n",
      "--------------------------------------------------\n",
      "The student population at AU grew from 5,000 in 1965 to 15,000 in 1977.\n",
      "\n",
      "\n",
      "--------------------------------------------------\n",
      "The photo is from a lecture at the Department of Clinical Medicine.\n",
      "\n",
      "\n",
      "--------------------------------------------------\n",
      "1992\n",
      "\n",
      "\n",
      "--------------------------------------------------\n",
      "The Faculty of Health Sciences is established\n",
      "In 1992, the Aarhus College of Dentistry merged with the Faculty of Medical Sciences and the faculty changed its name to the Faculty of Health Sciences.\n",
      "\n",
      "\n",
      "--------------------------------------------------\n",
      "1997\n",
      "First Nobel Prize\n",
      "Professor Jens Christian Skou received the Nobel Prize in Chemistry in 1997. In 2018, the Department of Biomedicine’s new state-of-the-art research facility is named after Jens Christian Skou.\n",
      "\n",
      "\n",
      "--------------------------------------------------\n",
      "2006-2007\n",
      "\n",
      "\n",
      "--------------------------------------------------\n",
      "New mergers\n",
      "\n",
      "\n",
      "--------------------------------------------------\n",
      "The Institute of Business and Technology in Herning (HIH), the Aarhus School of Business, the Danish Institute of Agricultural Sciences, the National Environmental Research Institute and the Danish University of Education (DPU) all merge with AU. The university now has about 34,000 students and 9,000 employees.\n",
      "\n",
      "\n",
      "--------------------------------------------------\n",
      "2010\n",
      "\n",
      "\n",
      "--------------------------------------------------\n",
      "Yet another Nobel Prize\n",
      "\n",
      "\n",
      "--------------------------------------------------\n",
      "Dale T. Mortensen, visiting professor at the Department of Economics and Business Economics, is awarded the Nobel Prize in Economic Sciences in 2010. The new Dale T. Mortensen Building, which houses the International Centre, is named after the Nobel Prize winner.\n",
      "\n",
      "\n",
      "--------------------------------------------------\n",
      "2011\n",
      "\n",
      "\n",
      "--------------------------------------------------\n",
      "From nine to four faculties\n",
      "\n",
      "\n",
      "--------------------------------------------------\n",
      "In 2011, AU undergoes a major reorganisation. The number of faculties is reduced from nine to four: Arts; Science and Technology; Health; and Business and Social Sciences.\n",
      "\n",
      "\n",
      "--------------------------------------------------\n",
      "2012\n",
      "\n",
      "\n",
      "--------------------------------------------------\n",
      "The Aarhus University School of Engineering merges with AU\n",
      "\n",
      "\n",
      "--------------------------------------------------\n",
      "After many years of close collaboration, the Aarhus University School of Engineering in Aarhus merged with AU, and is today housed in the Navitas building on the harbour.\n",
      "\n",
      "\n",
      "--------------------------------------------------\n",
      "2020\n",
      "\n",
      "\n",
      "--------------------------------------------------\n",
      "From four to five faculties\n",
      "\n",
      "\n",
      "--------------------------------------------------\n",
      "In January 2020, the Faculty of Science and Technology – AU’s largest – was split into two faculties: Technical Sciences and Natural Sciences.\n",
      "\n",
      "\n",
      "--------------------------------------------------\n",
      "2025\n",
      "\n",
      "\n",
      "--------------------------------------------------\n",
      "Aarhus University’s physical development\n",
      "\n",
      "\n",
      "--------------------------------------------------\n",
      "In 2019, the property management company Forskningsfondens Ejendomsselskab A/S acquired a large property (formerly the municipal hospital) adjacent to the University Park; AU is leasing these buildings from the property management company.\n",
      "\n",
      "\n",
      "--------------------------------------------------\n",
      "This expansion has given AU an opportunity to consolidate and strengthen a variety of degree programmes and research activities in downtown Aarhus, which will create a more closely integrated campus environment. The renovation of the property is underway, and is expected to be completed by 2025.\n",
      "--------------------------------------------------\n"
     ]
    }
   ],
   "execution_count": 14
  },
  {
   "metadata": {},
   "cell_type": "markdown",
   "source": "### Entities"
  },
  {
   "cell_type": "code",
   "metadata": {
    "ExecuteTime": {
     "end_time": "2025-02-24T08:35:59.921756Z",
     "start_time": "2025-02-24T08:35:59.918450Z"
    }
   },
   "source": [
    "# create empty list\n",
    "entities = []\n",
    "\n",
    "# add each entity to list\n",
    "for ent in doc.ents:\n",
    "    entities.append((ent.text, ent.label_))"
   ],
   "outputs": [],
   "execution_count": 15
  },
  {
   "cell_type": "code",
   "metadata": {
    "ExecuteTime": {
     "end_time": "2025-02-24T08:36:01.338884Z",
     "start_time": "2025-02-24T08:36:01.335392Z"
    }
   },
   "source": [
    "print(set(entities))"
   ],
   "outputs": [
    {
     "name": "stdout",
     "output_type": "stream",
     "text": [
      "{('the Nobel Prize in Economic Sciences', 'WORK_OF_ART'), ('The Faculty of Health Sciences', 'ORG'), ('2019', 'DATE'), ('nine', 'CARDINAL'), ('11 September 1933', 'DATE'), ('78', 'CARDINAL'), ('two', 'CARDINAL'), ('the Faculty of Health Sciences', 'ORG'), ('English', 'LANGUAGE'), ('2025', 'DATE'), ('2025', 'CARDINAL'), ('20', 'CARDINAL'), ('four to five', 'CARDINAL'), ('Gestapo', 'ORG'), ('Business and Social Sciences', 'ORG'), ('Dale T. Mortensen Building', 'PERSON'), ('Medicine, Economics, Law', 'ORG'), ('the Faculty of Medical Sciences', 'ORG'), ('Aarhus University’s', 'ORG'), ('Dale T. Mortensen', 'PERSON'), ('1933', 'DATE'), ('C. F. Møller', 'PERSON'), ('the Aarhus University School of Engineering', 'ORG'), ('French', 'LANGUAGE'), ('January 2020', 'DATE'), ('31 October 1944', 'DATE'), ('1977', 'DATE'), ('the International Centre', 'FAC'), ('the Danish University of Education', 'ORG'), ('the Danish Institute of Agricultural Sciences', 'ORG'), ('the Department of Economics and Business Economics', 'ORG'), ('the Aarhus School of Business', 'ORG'), ('Science and Technology', 'ORG'), ('9,000', 'CARDINAL'), ('Kay Fisker', 'PERSON'), ('nine to four', 'CARDINAL'), ('Forskningsfondens Ejendomsselskab A/S', 'ORG'), ('15,000', 'CARDINAL'), ('5,000', 'CARDINAL'), ('the Department of Clinical Medicine', 'ORG'), ('German', 'NORP'), ('the University Park', 'LOC'), ('Technical Sciences', 'ORG'), ('another Nobel Prize', 'WORK_OF_ART'), ('the Nobel Prize in Chemistry', 'WORK_OF_ART'), ('Navitas', 'ORG'), ('many years', 'DATE'), ('today', 'DATE'), ('1935-1942', 'DATE'), ('First Nobel Prize', 'WORK_OF_ART'), ('1928', 'DATE'), ('1965-1977', 'DATE'), ('the National Environmental Research Institute', 'ORG'), ('1992', 'DATE'), ('King Christian X', 'NORP'), ('2020', 'DATE'), ('1997', 'DATE'), ('the Department of Biomedicine', 'ORG'), ('University Teaching in Jutland', 'ORG'), ('2011', 'DATE'), ('1934', 'DATE'), ('the Nobel Prize', 'WORK_OF_ART'), ('DPU', 'ORG'), ('first', 'ORDINAL'), ('Aarhus', 'NORP'), ('100th', 'ORDINAL'), ('Danish', 'NORP'), ('2012', 'DATE'), ('one', 'CARDINAL'), ('Jens Christian Skou', 'PERSON'), ('38,000', 'CARDINAL'), ('2006-2007', 'DATE'), ('2018', 'DATE'), ('Five', 'CARDINAL'), ('2010', 'DATE'), ('the Faculty of Science and Technology', 'ORG'), ('The Institute of Business and Technology', 'ORG'), ('the Aarhus College of Dentistry', 'ORG'), ('British', 'NORP'), ('Denmark', 'GPE'), ('1965', 'DATE'), ('4 and 5', 'DATE'), ('The Aarhus University School of Engineering', 'ORG'), ('about 34,000', 'CARDINAL')}\n"
     ]
    }
   ],
   "execution_count": 16
  },
  {
   "metadata": {},
   "cell_type": "markdown",
   "source": "### Adjective frequency"
  },
  {
   "cell_type": "code",
   "metadata": {
    "ExecuteTime": {
     "end_time": "2025-02-24T08:36:03.609672Z",
     "start_time": "2025-02-24T08:36:03.606664Z"
    }
   },
   "source": [
    "# count number of adjectives\n",
    "adjective_count = 0\n",
    "for token in doc:\n",
    "    if token.pos_ == \"ADJ\":\n",
    "        adjective_count += 1"
   ],
   "outputs": [],
   "execution_count": 17
  },
  {
   "cell_type": "code",
   "metadata": {
    "ExecuteTime": {
     "end_time": "2025-02-24T08:36:05.406852Z",
     "start_time": "2025-02-24T08:36:05.403201Z"
    }
   },
   "source": [
    "adjective_count"
   ],
   "outputs": [
    {
     "data": {
      "text/plain": [
       "34"
      ]
     },
     "execution_count": 18,
     "metadata": {},
     "output_type": "execute_result"
    }
   ],
   "execution_count": 18
  },
  {
   "cell_type": "code",
   "metadata": {
    "ExecuteTime": {
     "end_time": "2025-02-24T08:36:06.650753Z",
     "start_time": "2025-02-24T08:36:06.647962Z"
    }
   },
   "source": [
    "# find the relative frequency per 100 tokens\n",
    "percent = (adjective_count/len(doc)) * 100"
   ],
   "outputs": [],
   "execution_count": 19
  },
  {
   "cell_type": "code",
   "metadata": {
    "ExecuteTime": {
     "end_time": "2025-02-24T08:36:07.907534Z",
     "start_time": "2025-02-24T08:36:07.903971Z"
    }
   },
   "source": "round(percent, 2)",
   "outputs": [
    {
     "data": {
      "text/plain": [
       "4.27"
      ]
     },
     "execution_count": 20,
     "metadata": {},
     "output_type": "execute_result"
    }
   ],
   "execution_count": 20
  },
  {
   "cell_type": "markdown",
   "metadata": {},
   "source": [
    "## Creating neater outputs using ```pandas```"
   ]
  },
  {
   "cell_type": "markdown",
   "metadata": {},
   "source": [
    "At the moment, all of our output from ```spaCy``` is in the form of lists. If we want to save these, it probably makes sense to have them saved in a more transferable format, such as CSV files or JSONs.\n",
    "\n",
    "One very easy way to do this with Python is by using the dataframe library ```pandas```."
   ]
  },
  {
   "cell_type": "code",
   "metadata": {
    "ExecuteTime": {
     "end_time": "2025-02-24T08:36:24.112886Z",
     "start_time": "2025-02-24T08:36:22.844534Z"
    }
   },
   "source": [
    "import pandas as pd"
   ],
   "outputs": [],
   "execution_count": 21
  },
  {
   "cell_type": "code",
   "metadata": {
    "ExecuteTime": {
     "end_time": "2025-02-24T08:36:24.127179Z",
     "start_time": "2025-02-24T08:36:24.117691Z"
    }
   },
   "source": [
    "# create spaCy doc\n",
    "# create a new Doc object\n",
    "doc = nlp(input_string)"
   ],
   "outputs": [],
   "execution_count": 22
  },
  {
   "cell_type": "code",
   "metadata": {
    "ExecuteTime": {
     "end_time": "2025-02-24T08:36:24.655143Z",
     "start_time": "2025-02-24T08:36:24.652441Z"
    }
   },
   "source": [
    "annotations = []\n",
    "for token in doc:\n",
    "    annotations.append((token.text, token.pos_))"
   ],
   "outputs": [],
   "execution_count": 23
  },
  {
   "cell_type": "code",
   "metadata": {
    "ExecuteTime": {
     "end_time": "2025-02-24T08:36:25.589190Z",
     "start_time": "2025-02-24T08:36:25.585369Z"
    }
   },
   "source": [
    "annotations"
   ],
   "outputs": [
    {
     "data": {
      "text/plain": [
       "[('My', 'PRON'),\n",
       " ('name', 'NOUN'),\n",
       " ('is', 'AUX'),\n",
       " ('Ross', 'PROPN'),\n",
       " ('and', 'CCONJ'),\n",
       " ('I', 'PRON'),\n",
       " ('have', 'VERB'),\n",
       " ('family', 'NOUN'),\n",
       " ('in', 'ADP'),\n",
       " ('New', 'PROPN'),\n",
       " ('York', 'PROPN'),\n",
       " ('City', 'PROPN'),\n",
       " ('.', 'PUNCT')]"
      ]
     },
     "execution_count": 24,
     "metadata": {},
     "output_type": "execute_result"
    }
   ],
   "execution_count": 24
  },
  {
   "cell_type": "code",
   "metadata": {
    "ExecuteTime": {
     "end_time": "2025-02-24T08:36:26.530701Z",
     "start_time": "2025-02-24T08:36:26.526114Z"
    }
   },
   "source": [
    "# spaCy doc to pandas dataframe\n",
    "data = pd.DataFrame(annotations, \n",
    "                    columns=[\"Token\", \"POS\"])"
   ],
   "outputs": [],
   "execution_count": 25
  },
  {
   "cell_type": "code",
   "metadata": {
    "ExecuteTime": {
     "end_time": "2025-02-24T08:36:35.432182Z",
     "start_time": "2025-02-24T08:36:35.424455Z"
    }
   },
   "source": [
    "data"
   ],
   "outputs": [
    {
     "data": {
      "text/plain": [
       "     Token    POS\n",
       "0       My   PRON\n",
       "1     name   NOUN\n",
       "2       is    AUX\n",
       "3     Ross  PROPN\n",
       "4      and  CCONJ\n",
       "5        I   PRON\n",
       "6     have   VERB\n",
       "7   family   NOUN\n",
       "8       in    ADP\n",
       "9      New  PROPN\n",
       "10    York  PROPN\n",
       "11    City  PROPN\n",
       "12       .  PUNCT"
      ],
      "text/html": [
       "<div>\n",
       "<style scoped>\n",
       "    .dataframe tbody tr th:only-of-type {\n",
       "        vertical-align: middle;\n",
       "    }\n",
       "\n",
       "    .dataframe tbody tr th {\n",
       "        vertical-align: top;\n",
       "    }\n",
       "\n",
       "    .dataframe thead th {\n",
       "        text-align: right;\n",
       "    }\n",
       "</style>\n",
       "<table border=\"1\" class=\"dataframe\">\n",
       "  <thead>\n",
       "    <tr style=\"text-align: right;\">\n",
       "      <th></th>\n",
       "      <th>Token</th>\n",
       "      <th>POS</th>\n",
       "    </tr>\n",
       "  </thead>\n",
       "  <tbody>\n",
       "    <tr>\n",
       "      <th>0</th>\n",
       "      <td>My</td>\n",
       "      <td>PRON</td>\n",
       "    </tr>\n",
       "    <tr>\n",
       "      <th>1</th>\n",
       "      <td>name</td>\n",
       "      <td>NOUN</td>\n",
       "    </tr>\n",
       "    <tr>\n",
       "      <th>2</th>\n",
       "      <td>is</td>\n",
       "      <td>AUX</td>\n",
       "    </tr>\n",
       "    <tr>\n",
       "      <th>3</th>\n",
       "      <td>Ross</td>\n",
       "      <td>PROPN</td>\n",
       "    </tr>\n",
       "    <tr>\n",
       "      <th>4</th>\n",
       "      <td>and</td>\n",
       "      <td>CCONJ</td>\n",
       "    </tr>\n",
       "    <tr>\n",
       "      <th>5</th>\n",
       "      <td>I</td>\n",
       "      <td>PRON</td>\n",
       "    </tr>\n",
       "    <tr>\n",
       "      <th>6</th>\n",
       "      <td>have</td>\n",
       "      <td>VERB</td>\n",
       "    </tr>\n",
       "    <tr>\n",
       "      <th>7</th>\n",
       "      <td>family</td>\n",
       "      <td>NOUN</td>\n",
       "    </tr>\n",
       "    <tr>\n",
       "      <th>8</th>\n",
       "      <td>in</td>\n",
       "      <td>ADP</td>\n",
       "    </tr>\n",
       "    <tr>\n",
       "      <th>9</th>\n",
       "      <td>New</td>\n",
       "      <td>PROPN</td>\n",
       "    </tr>\n",
       "    <tr>\n",
       "      <th>10</th>\n",
       "      <td>York</td>\n",
       "      <td>PROPN</td>\n",
       "    </tr>\n",
       "    <tr>\n",
       "      <th>11</th>\n",
       "      <td>City</td>\n",
       "      <td>PROPN</td>\n",
       "    </tr>\n",
       "    <tr>\n",
       "      <th>12</th>\n",
       "      <td>.</td>\n",
       "      <td>PUNCT</td>\n",
       "    </tr>\n",
       "  </tbody>\n",
       "</table>\n",
       "</div>"
      ]
     },
     "execution_count": 26,
     "metadata": {},
     "output_type": "execute_result"
    }
   ],
   "execution_count": 26
  },
  {
   "cell_type": "code",
   "metadata": {
    "ExecuteTime": {
     "end_time": "2025-02-24T08:36:37.713116Z",
     "start_time": "2025-02-24T08:36:37.703727Z"
    }
   },
   "source": [
    "# save dataframe\n",
    "output_path = os.path.join(\"..\", \"output\", \"annotations.csv\")\n",
    "os.makedirs(os.path.dirname(output_path), exist_ok=True)  # make if it does not exist\n",
    "data.to_csv(output_path)"
   ],
   "outputs": [],
   "execution_count": 27
  },
  {
   "cell_type": "code",
   "execution_count": null,
   "metadata": {},
   "outputs": [],
   "source": []
  }
 ],
 "metadata": {
  "kernelspec": {
   "display_name": "Python 3 (ipykernel)",
   "language": "python",
   "name": "python3"
  },
  "language_info": {
   "codemirror_mode": {
    "name": "ipython",
    "version": 3
   },
   "file_extension": ".py",
   "mimetype": "text/x-python",
   "name": "python",
   "nbconvert_exporter": "python",
   "pygments_lexer": "ipython3",
   "version": "3.11.7"
  }
 },
 "nbformat": 4,
 "nbformat_minor": 4
}
